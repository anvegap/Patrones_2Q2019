{
 "cells": [
  {
   "cell_type": "markdown",
   "metadata": {},
   "source": [
    "# Métodos de Aprendizaje Automático Supervisado\n",
    "\n",
    " *Anthony Vega Padilla, 201258956*\n",
    " \n",
    " <br>\n",
    " <br>\n",
    " \n",
    " Los métodos de aprendizaje supervisado se conocen de esta forma porque aun requieren de intervención humana para ser entrenados de acuerdo a información previamente conocida, es decir, brindar asistencia al algoritmo sobre las conclusiones que éste debe proporcionar.\n",
    " \n",
    "En este documento vamos a revisar algunos algoritmos utilizados frecuentemente, el *dataset* usado se puede obtener en **https://www.kaggle.com/pavanraj159/predicting-a-pulsar-star/**. Este *dataset* consiste en una serie de mediciones de diferentes parámetros estudiados en astronomía para detectar un \"púlsar\" o estrella de neutrones.\n"
   ]
  },
  {
   "cell_type": "code",
   "execution_count": 2,
   "metadata": {},
   "outputs": [],
   "source": [
    "#Importar las bibliotecas necesarias\n",
    "import pandas as pd\n",
    "import numpy as np\n",
    "import matplotlib.pyplot as plt\n",
    "from sklearn.model_selection import train_test_split\n",
    "\n",
    "#Requerido para utilizar graficos \n",
    "%matplotlib inline\n",
    "\n",
    "#Cargar el dataset\n",
    "filename = \"pulsar_stars.csv\"\n",
    "pulsar = pd.read_csv(filename)"
   ]
  },
  {
   "cell_type": "code",
   "execution_count": 6,
   "metadata": {},
   "outputs": [
    {
     "data": {
      "text/html": [
       "<div>\n",
       "<style scoped>\n",
       "    .dataframe tbody tr th:only-of-type {\n",
       "        vertical-align: middle;\n",
       "    }\n",
       "\n",
       "    .dataframe tbody tr th {\n",
       "        vertical-align: top;\n",
       "    }\n",
       "\n",
       "    .dataframe thead th {\n",
       "        text-align: right;\n",
       "    }\n",
       "</style>\n",
       "<table border=\"1\" class=\"dataframe\">\n",
       "  <thead>\n",
       "    <tr style=\"text-align: right;\">\n",
       "      <th></th>\n",
       "      <th>Mean of the integrated profile</th>\n",
       "      <th>Standard deviation of the integrated profile</th>\n",
       "      <th>Excess kurtosis of the integrated profile</th>\n",
       "      <th>Skewness of the integrated profile</th>\n",
       "      <th>Mean of the DM-SNR curve</th>\n",
       "      <th>Standard deviation of the DM-SNR curve</th>\n",
       "      <th>Excess kurtosis of the DM-SNR curve</th>\n",
       "      <th>Skewness of the DM-SNR curve</th>\n",
       "      <th>target_class</th>\n",
       "    </tr>\n",
       "  </thead>\n",
       "  <tbody>\n",
       "    <tr>\n",
       "      <th>0</th>\n",
       "      <td>140.562500</td>\n",
       "      <td>55.683782</td>\n",
       "      <td>-0.234571</td>\n",
       "      <td>-0.699648</td>\n",
       "      <td>3.199833</td>\n",
       "      <td>19.110426</td>\n",
       "      <td>7.975532</td>\n",
       "      <td>74.242225</td>\n",
       "      <td>0</td>\n",
       "    </tr>\n",
       "    <tr>\n",
       "      <th>1</th>\n",
       "      <td>102.507812</td>\n",
       "      <td>58.882430</td>\n",
       "      <td>0.465318</td>\n",
       "      <td>-0.515088</td>\n",
       "      <td>1.677258</td>\n",
       "      <td>14.860146</td>\n",
       "      <td>10.576487</td>\n",
       "      <td>127.393580</td>\n",
       "      <td>0</td>\n",
       "    </tr>\n",
       "    <tr>\n",
       "      <th>2</th>\n",
       "      <td>103.015625</td>\n",
       "      <td>39.341649</td>\n",
       "      <td>0.323328</td>\n",
       "      <td>1.051164</td>\n",
       "      <td>3.121237</td>\n",
       "      <td>21.744669</td>\n",
       "      <td>7.735822</td>\n",
       "      <td>63.171909</td>\n",
       "      <td>0</td>\n",
       "    </tr>\n",
       "    <tr>\n",
       "      <th>3</th>\n",
       "      <td>136.750000</td>\n",
       "      <td>57.178449</td>\n",
       "      <td>-0.068415</td>\n",
       "      <td>-0.636238</td>\n",
       "      <td>3.642977</td>\n",
       "      <td>20.959280</td>\n",
       "      <td>6.896499</td>\n",
       "      <td>53.593661</td>\n",
       "      <td>0</td>\n",
       "    </tr>\n",
       "    <tr>\n",
       "      <th>4</th>\n",
       "      <td>88.726562</td>\n",
       "      <td>40.672225</td>\n",
       "      <td>0.600866</td>\n",
       "      <td>1.123492</td>\n",
       "      <td>1.178930</td>\n",
       "      <td>11.468720</td>\n",
       "      <td>14.269573</td>\n",
       "      <td>252.567306</td>\n",
       "      <td>0</td>\n",
       "    </tr>\n",
       "  </tbody>\n",
       "</table>\n",
       "</div>"
      ],
      "text/plain": [
       "    Mean of the integrated profile  \\\n",
       "0                       140.562500   \n",
       "1                       102.507812   \n",
       "2                       103.015625   \n",
       "3                       136.750000   \n",
       "4                        88.726562   \n",
       "\n",
       "    Standard deviation of the integrated profile  \\\n",
       "0                                      55.683782   \n",
       "1                                      58.882430   \n",
       "2                                      39.341649   \n",
       "3                                      57.178449   \n",
       "4                                      40.672225   \n",
       "\n",
       "    Excess kurtosis of the integrated profile  \\\n",
       "0                                   -0.234571   \n",
       "1                                    0.465318   \n",
       "2                                    0.323328   \n",
       "3                                   -0.068415   \n",
       "4                                    0.600866   \n",
       "\n",
       "    Skewness of the integrated profile   Mean of the DM-SNR curve  \\\n",
       "0                            -0.699648                   3.199833   \n",
       "1                            -0.515088                   1.677258   \n",
       "2                             1.051164                   3.121237   \n",
       "3                            -0.636238                   3.642977   \n",
       "4                             1.123492                   1.178930   \n",
       "\n",
       "    Standard deviation of the DM-SNR curve  \\\n",
       "0                                19.110426   \n",
       "1                                14.860146   \n",
       "2                                21.744669   \n",
       "3                                20.959280   \n",
       "4                                11.468720   \n",
       "\n",
       "    Excess kurtosis of the DM-SNR curve   Skewness of the DM-SNR curve  \\\n",
       "0                              7.975532                      74.242225   \n",
       "1                             10.576487                     127.393580   \n",
       "2                              7.735822                      63.171909   \n",
       "3                              6.896499                      53.593661   \n",
       "4                             14.269573                     252.567306   \n",
       "\n",
       "   target_class  \n",
       "0             0  \n",
       "1             0  \n",
       "2             0  \n",
       "3             0  \n",
       "4             0  "
      ]
     },
     "execution_count": 6,
     "metadata": {},
     "output_type": "execute_result"
    }
   ],
   "source": [
    "pulsar.head()"
   ]
  },
  {
   "cell_type": "markdown",
   "metadata": {},
   "source": [
    "Una vez cargador el *dataset* se debe hacer la selección de los *features* y los *labels, que corresponden respectivamente a los atributos que se van a usar como entrada para la predicción y a las clases de salida."
   ]
  },
  {
   "cell_type": "code",
   "execution_count": 5,
   "metadata": {},
   "outputs": [],
   "source": [
    "#Seleccionar los inputs y outputs del modelo\n",
    "features = pulsar[pulsar.columns.tolist()[:-1]]\n",
    "labels = pulsar[pulsar.columns.tolist()[-1:]]"
   ]
  },
  {
   "cell_type": "markdown",
   "metadata": {},
   "source": [
    "# 1. KNN Classifier\n",
    "\n",
    "*K-nearest neighbors* es un algoritmo de clasificación, donde el valor de K representa el número de vecinos (otras instancias) que tienen peso en la clasificación de la instancia actual. Es decir, si K=3 se tomarán en cuenta las 3 instancias con los atributos mas cercanos o similares y éstas asignan la clase de salida según la votación. \n",
    "\n",
    "Para este ejemplo, se hace un barrido del hiper-parámetro K en el rango de 1 a 10, para comparar los puntajes del modelo."
   ]
  },
  {
   "cell_type": "code",
   "execution_count": 7,
   "metadata": {},
   "outputs": [
    {
     "data": {
      "text/plain": [
       "<matplotlib.legend.Legend at 0x7f04f7a3cda0>"
      ]
     },
     "execution_count": 7,
     "metadata": {},
     "output_type": "execute_result"
    },
    {
     "data": {
      "image/png": "[encoded data removed]",
      "text/plain": [
       "<Figure size 432x288 with 1 Axes>"
      ]
     },
     "metadata": {
      "needs_background": "light"
     },
     "output_type": "display_data"
    }
   ],
   "source": [
    "from sklearn.neighbors import KNeighborsClassifier\n",
    "\n",
    "X_train, X_test, Y_train, Y_test = train_test_split(features, labels, random_state=23)\n",
    "\n",
    "training_acc = []\n",
    "testing_acc = []\n",
    "\n",
    "Y_train = Y_train.values.ravel()\n",
    "\n",
    "neighbors_settings = range(1,10)\n",
    "for n_neighbors in neighbors_settings:\n",
    "    clf = KNeighborsClassifier(n_neighbors=n_neighbors)\n",
    "    clf.fit(X_train, Y_train)\n",
    "    training_acc.append(clf.score(X_train, Y_train))\n",
    "    testing_acc.append(clf.score(X_test, Y_test))\n",
    "plt.plot(neighbors_settings,training_acc, label=\"training acc\")\n",
    "plt.plot(neighbors_settings,testing_acc, label=\"testing acc\")\n",
    "plt.ylabel(\"Acc\")\n",
    "plt.xlabel(\"n_neighbors\")\n",
    "plt.legend()"
   ]
  },
  {
   "cell_type": "markdown",
   "metadata": {},
   "source": [
    "De acuerdo con la figura, se observa que para valores pequeños de K se produce *overfitting* es decir, tenemos un modelo muy complejo que se ajusta perfectamente a los datos de entrenamiento pero no generaliza de forma adecuada. Conforme se incrementa K, se alcanza la condición *fit* donde ambos puntajes son muy cercanos. Este comportamiento se mantiene relativamente estable para K > 6."
   ]
  },
  {
   "cell_type": "markdown",
   "metadata": {},
   "source": [
    "# 2. Linear Regression\n",
    "\n",
    "La regresión lineal es un método estadístico que se utiliza para estudiar o establecer alguna relación entre dos variables continuas, es decir se vuelve especialmente util para regresión y no tanto para clasificación. Por este motivo, en este ejemplo al estar usando como objetivo una clase binaria, no se espera un puntaje tan alto como en el método anterior."
   ]
  },
  {
   "cell_type": "code",
   "execution_count": 9,
   "metadata": {},
   "outputs": [
    {
     "name": "stdout",
     "output_type": "stream",
     "text": [
      "Training set score: 0.680\n",
      "Test set score: 0.691\n"
     ]
    }
   ],
   "source": [
    "from sklearn.linear_model import LinearRegression\n",
    "\n",
    "X_train, X_test, Y_train, Y_test = train_test_split(features, labels, random_state=13)\n",
    "\n",
    "lr = LinearRegression().fit(X_train, Y_train)\n",
    "\n",
    "print(\"Training set score: {:.3f}\".format(lr.score(X_train, Y_train)))\n",
    "print(\"Test set score: {:.3f}\".format(lr.score(X_test, Y_test)))"
   ]
  },
  {
   "cell_type": "markdown",
   "metadata": {},
   "source": [
    "La regresión lineal tiene la ventaja de que es muy poco probable que genere *overfitting*, esto queda evidenciado con los puntajes obtenidos. Sin embargo, comparado con el puntaje de KNN es bastante inferior."
   ]
  },
  {
   "cell_type": "markdown",
   "metadata": {},
   "source": [
    "# 3. Logistic Regression\n",
    "\n",
    "No se debe confundir con los métodos de regresión para predecir variables continuas. Aunque su nombre diga regresión, este método utiliza una clasificación binaria, por medio de la aplicación de la una función sigmoide.\n",
    "\n",
    "Al variar el hiper-parámetro C, controlamos la regularización. Para los valores altos, se espera que modelo tienda a optimizar el puntaje de entrenamiento. Se debe ser cuidadoso con este ajuste para no inducir *overfitting*"
   ]
  },
  {
   "cell_type": "code",
   "execution_count": 8,
   "metadata": {},
   "outputs": [
    {
     "data": {
      "text/plain": [
       "<matplotlib.legend.Legend at 0x7f04f79b9d68>"
      ]
     },
     "execution_count": 8,
     "metadata": {},
     "output_type": "execute_result"
    },
    {
     "data": {
      "image/png": "[encoded data removed]",
      "text/plain": [
       "<Figure size 432x288 with 1 Axes>"
      ]
     },
     "metadata": {
      "needs_background": "light"
     },
     "output_type": "display_data"
    }
   ],
   "source": [
    "from sklearn.linear_model import LogisticRegression\n",
    "\n",
    "X_train, X_test, Y_train, Y_test = train_test_split(features, labels, random_state=13)\n",
    "\n",
    "training_acc = []\n",
    "test_acc = []\n",
    "\n",
    "Y_train = Y_train.values.ravel()\n",
    "\n",
    "rango = range(1, 100)\n",
    "for c in rango:\n",
    "    clf = LogisticRegression(C=c, solver='liblinear')\n",
    "    clf.fit(X_train, Y_train)\n",
    "    training_acc.append(clf.score(X_train, Y_train))\n",
    "    test_acc.append(clf.score(X_test, Y_test))\n",
    "plt.plot(rango, training_acc, label=\"training accuracy\")\n",
    "plt.plot(rango, test_acc, label=\"test accuracy\")\n",
    "plt.ylabel(\"Accuracy\")\n",
    "plt.xlabel(\"C\")\n",
    "plt.legend()"
   ]
  },
  {
   "cell_type": "markdown",
   "metadata": {},
   "source": [
    "La regresión logística constituye un caso especial de la regresión lineal y como se mencionó antes, con ligeros ajustes para la predicción se puede obtener un clasificador de rendimiento comparable con KNN. Para este ejemplo se observa que el efecto de la regularización es bastante bajo en este *dataset*."
   ]
  },
  {
   "cell_type": "markdown",
   "metadata": {},
   "source": [
    "# 4. Naive Bayes\n",
    "\n",
    "Naive Bayes es un clasificador probabilístico que está basado en el teorema de Bayes pero incluye algunas suposiciones para simplificación. Dichas suposiciones asumen que los atributos de entrada son independientes. Este clasificador tiene algunas variantes que dependen de como se asuma la distribución de probabilidad de las entradas, puede ser gaussiana, multinomial, Bernoulli, entre otras.\n",
    "\n",
    "Para este caso se comparan dos de ellos, Gaussian y Bernoulli."
   ]
  },
  {
   "cell_type": "code",
   "execution_count": 15,
   "metadata": {
    "scrolled": true
   },
   "outputs": [
    {
     "name": "stdout",
     "output_type": "stream",
     "text": [
      "Gaussian Training set score: 0.944\n",
      "Gaussian Test set score: 0.949\n",
      "\n",
      "Bernoulli Training set score: 0.923\n",
      "Bernoulli Test set score: 0.925\n"
     ]
    }
   ],
   "source": [
    "from sklearn.naive_bayes import GaussianNB\n",
    "from sklearn.naive_bayes import BernoulliNB\n",
    "\n",
    "X_train, X_test, Y_train, Y_test = train_test_split(features, labels, random_state=13)\n",
    "\n",
    "Y_train = Y_train.values.ravel()\n",
    "\n",
    "nbg = GaussianNB().fit(X_train, Y_train)\n",
    "nbb = BernoulliNB().fit(X_train, Y_train)\n",
    "\n",
    "print(\"Gaussian Training set score: {:.3f}\".format(nbg.score(X_train, Y_train)))\n",
    "print(\"Gaussian Test set score: {:.3f}\".format(nbg.score(X_test, Y_test)))\n",
    "\n",
    "print(\"\\nBernoulli Training set score: {:.3f}\".format(nbb.score(X_train, Y_train)))\n",
    "print(\"Bernoulli Test set score: {:.3f}\".format(nbb.score(X_test, Y_test)))\n"
   ]
  },
  {
   "cell_type": "markdown",
   "metadata": {},
   "source": [
    "Los predictores también se puede validar utilzando el siguiente cálculo:"
   ]
  },
  {
   "cell_type": "code",
   "execution_count": 20,
   "metadata": {},
   "outputs": [
    {
     "name": "stdout",
     "output_type": "stream",
     "text": [
      "Number of mislabeled points using Gaussian: 980 out of a total 17898 \n",
      "\n",
      "Number of mislabeled points using Bernoulli: 1365 out of a total 17898 \n"
     ]
    }
   ],
   "source": [
    "y_pred_g = nbg.fit(features, labels.values.ravel()).predict(features)\n",
    "print(\"Number of mislabeled points using Gaussian: %d out of a total %d \"\n",
    "      % ((labels.values.ravel() != y_pred_g).sum(), features.shape[0]))\n",
    "\n",
    "y_pred_b = nbb.fit(features, labels.values.ravel()).predict(features)\n",
    "print(\"\\nNumber of mislabeled points using Bernoulli: %d out of a total %d \"\n",
    "      % ((labels.values.ravel() != y_pred_b).sum(), features.shape[0]))"
   ]
  },
  {
   "cell_type": "markdown",
   "metadata": {},
   "source": [
    "Como se observa en los resultados, el puntaje de Naive Bayes Gaussiano solo es ligeramente mayor, es decir, que un método ofrezca un puntaje alto no es excluyente con las otras variantes. En este caso el predictor de Bernoulli también proporciona un modelo bastante preciso."
   ]
  },
  {
   "cell_type": "markdown",
   "metadata": {},
   "source": [
    "# 5. Decision Tree"
   ]
  },
  {
   "cell_type": "code",
   "execution_count": 39,
   "metadata": {},
   "outputs": [
    {
     "name": "stdout",
     "output_type": "stream",
     "text": [
      "full_tree accuracy on training set: 1.000\n",
      "full_tree accuracy on test set: 0.971\n"
     ]
    },
    {
     "data": {
      "text/plain": [
       "<matplotlib.legend.Legend at 0x7f04f71769e8>"
      ]
     },
     "execution_count": 39,
     "metadata": {},
     "output_type": "execute_result"
    },
    {
     "data": {
      "image/png": "[encoded data removed]",
      "text/plain": [
       "<Figure size 432x288 with 1 Axes>"
      ]
     },
     "metadata": {
      "needs_background": "light"
     },
     "output_type": "display_data"
    }
   ],
   "source": [
    "from sklearn.tree import DecisionTreeClassifier\n",
    "\n",
    "X_train, X_test, Y_train, Y_test = train_test_split(features, labels, random_state=42)\n",
    "\n",
    "full_tree = DecisionTreeClassifier(random_state=0)\n",
    "full_tree.fit(X_train, Y_train.astype('int'))\n",
    "\n",
    "print(\"full_tree accuracy on training set: {:.3f}\".format(full_tree.score(X_train, Y_train.astype('int'))))\n",
    "print(\"full_tree accuracy on test set: {:.3f}\".format(full_tree.score(X_test, Y_test.astype('int'))))\n",
    "\n",
    "training_acc = []\n",
    "test_acc = []\n",
    "\n",
    "depth = range(1, 20)\n",
    "for d in depth:\n",
    "    custom_tree = DecisionTreeClassifier(max_depth=d,random_state=0)\n",
    "    custom_tree.fit(X_train, Y_train.astype('int'))\n",
    "    training_acc.append(custom_tree.score(X_train, Y_train))\n",
    "    test_acc.append(custom_tree.score(X_test, Y_test))\n",
    "plt.plot(depth, training_acc, label=\"training accuracy\")\n",
    "plt.plot(depth, test_acc, label=\"test accuracy\")\n",
    "plt.ylabel(\"Accuracy\")\n",
    "plt.xlabel(\"depth\")\n",
    "plt.legend()"
   ]
  },
  {
   "cell_type": "markdown",
   "metadata": {},
   "source": [
    "Para el primer caso, se puede notar que el puntaje de entrenamiento es perfecto, esto porque el arbol crece de forma ilimitada hasta ajustarse de forma perfecta con el *dataset*, lo que se conoce como un arbol puro. Para evitar esto, se puede especificar alguna restricción como por ejemplo la profundidad (cantidad de preguntas o decisiones). \n",
    "\n",
    "Al tener un ábol con profundidad limitada, se logra obtener un puntaje aceptable sin caer en *overfit*, conforme se añaden niveles se observa como esto empieza a suceder."
   ]
  },
  {
   "cell_type": "markdown",
   "metadata": {},
   "source": [
    "# 6. Random Forest\n",
    "\n",
    "## Aprendizaje Conjunto\n",
    "\n",
    "Los metodos de aprendizaje conjunto son aquellos que utilizando varios algoritmos distintos de forma combinada o simultánea para obtener un rendimiento mejor que los que son posibles en cada uno de dichos algoritmos por si solos. Esta combinación permite general modelos predictivos mas eficientes y flexibles.\n",
    "\n",
    "*Random Forest* es un ejemplo clásico y muy intuitivo del concepto de aprendizaje conjunto. En este modelo los datos se separan en subconjuntos y se realiza un seleccion aleatoria de atributos y para cada subconjunto se implementa un arbol completamente independiente. De este modo, se consigue un grupo numeroso de arboles no correlacionados que al final del proceso son promediados para obtener la clasificación final."
   ]
  },
  {
   "cell_type": "code",
   "execution_count": 54,
   "metadata": {},
   "outputs": [
    {
     "data": {
      "text/plain": [
       "<matplotlib.legend.Legend at 0x7f04f6b753c8>"
      ]
     },
     "execution_count": 54,
     "metadata": {},
     "output_type": "execute_result"
    },
    {
     "data": {
      "image/png": "[encoded data removed]",
      "text/plain": [
       "<Figure size 432x288 with 1 Axes>"
      ]
     },
     "metadata": {
      "needs_background": "light"
     },
     "output_type": "display_data"
    }
   ],
   "source": [
    "from sklearn.ensemble import RandomForestClassifier\n",
    "\n",
    "X_train, X_test, Y_train, Y_test = train_test_split(features, labels, random_state=34)\n",
    "\n",
    "Y_train = Y_train.values.ravel()\n",
    "\n",
    "training_acc = []\n",
    "test_acc = []\n",
    "\n",
    "estimators = range(1, 20)\n",
    "for e in estimators:\n",
    "    rf = RandomForestClassifier(n_estimators=e, max_depth=3).fit(X_train, Y_train.astype('int'))\n",
    "    training_acc.append(rf.score(X_train, Y_train))\n",
    "    test_acc.append(rf.score(X_test, Y_test))\n",
    "plt.plot(estimators, training_acc, label=\"training accuracy\")\n",
    "plt.plot(estimators, test_acc, label=\"test accuracy\")\n",
    "plt.ylabel(\"Accuracy\")\n",
    "plt.xlabel(\"estimators & depth\")\n",
    "plt.legend()\n"
   ]
  },
  {
   "cell_type": "markdown",
   "metadata": {},
   "source": [
    "Para este caso, como era esperable el rendimiento del Random Forest es bastante bueno, incluso variando la cantidad de estimadores el puntaje varía en un porcentaje bajo. Para la primera iteración se tendría el caso de un arbol simple, por eso se nota el incremento a partir de 2 cuando ya se cuenta realmente con un *Random Forest* y luego la variación no es significativa. El parámetro *depth* se mantiene constante ya que como se vió en el ejemplo anteriors, al agregar mucha profundidad se puede caer en un arbol puro y producir *overfitting*"
   ]
  }
 ],
 "metadata": {
  "kernelspec": {
   "display_name": "Python 3",
   "language": "python",
   "name": "python3"
  },
  "language_info": {
   "codemirror_mode": {
    "name": "ipython",
    "version": 3
   },
   "file_extension": ".py",
   "mimetype": "text/x-python",
   "name": "python",
   "nbconvert_exporter": "python",
   "pygments_lexer": "ipython3",
   "version": "3.7.3"
  }
 },
 "nbformat": 4,
 "nbformat_minor": 2
}
